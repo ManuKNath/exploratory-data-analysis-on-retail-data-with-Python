{
 "cells": [
  {
   "cell_type": "markdown",
   "metadata": {},
   "source": [
    "# Portfolio Project: Online Retail Exploratory Data Analysis with Python"
   ]
  },
  {
   "cell_type": "markdown",
   "metadata": {},
   "source": [
    "## Overview\n",
    "\n",
    "In this project, you will step into the shoes of an entry-level data analyst at an online retail company, helping interpret real-world data to help make a key business decision."
   ]
  },
  {
   "cell_type": "markdown",
   "metadata": {},
   "source": [
    "## Case Study\n",
    "In this project, you will be working with transactional data from an online retail store. The dataset contains information about customer purchases, including product details, quantities, prices, and timestamps. Your task is to explore and analyze this dataset to gain insights into the store's sales trends, customer behavior, and popular products. \n",
    "\n",
    "By conducting exploratory data analysis, you will identify patterns, outliers, and correlations in the data, allowing you to make data-driven decisions and recommendations to optimize the store's operations and improve customer satisfaction. Through visualizations and statistical analysis, you will uncover key trends, such as the busiest sales months, best-selling products, and the store's most valuable customers. Ultimately, this project aims to provide actionable insights that can drive strategic business decisions and enhance the store's overall performance in the competitive online retail market.\n",
    "\n",
    "## Prerequisites\n",
    "\n",
    "Before starting this project, you should have some basic knowledge of Python programming and Pandas. In addition, you may want to use the following packages in your Python environment:\n",
    "\n",
    "- pandas\n",
    "- numpy\n",
    "- seaborn\n",
    "- matplotlib\n",
    "\n",
    "These packages should already be installed in Coursera's Jupyter Notebook environment, however if you'd like to install additional packages that are not included in this environment or are working off platform you can install additional packages using `!pip install packagename` within a notebook cell such as:\n",
    "\n",
    "- `!pip install pandas`\n",
    "- `!pip install matplotlib`"
   ]
  },
  {
   "cell_type": "markdown",
   "metadata": {},
   "source": [
    "## Project Objectives\n",
    "1. Describe data to answer key questions to uncover insights\n",
    "2. Gain valuable insights that will help improve online retail performance\n",
    "3. Provide analytic insights and data-driven recommendations"
   ]
  },
  {
   "cell_type": "markdown",
   "metadata": {},
   "source": [
    "## Dataset\n",
    "\n",
    "The dataset you will be working with is the \"Online Retail\" dataset. It contains transactional data of an online retail store from 2010 to 2011. The dataset is available as a .xlsx file named `Online Retail.xlsx`. This data file is already included in the Coursera Jupyter Notebook environment, however if you are working off-platform it can also be downloaded [here](https://archive.ics.uci.edu/ml/machine-learning-databases/00352/Online%20Retail.xlsx).\n",
    "\n",
    "The dataset contains the following columns:\n",
    "\n",
    "- InvoiceNo: Invoice number of the transaction\n",
    "- StockCode: Unique code of the product\n",
    "- Description: Description of the product\n",
    "- Quantity: Quantity of the product in the transaction\n",
    "- InvoiceDate: Date and time of the transaction\n",
    "- UnitPrice: Unit price of the product\n",
    "- CustomerID: Unique identifier of the customer\n",
    "- Country: Country where the transaction occurred"
   ]
  },
  {
   "cell_type": "markdown",
   "metadata": {},
   "source": [
    "## Tasks\n",
    "\n",
    "You may explore this dataset in any way you would like - however if you'd like some help getting started, here are a few ideas:\n",
    "\n",
    "1. Load the dataset into a Pandas DataFrame and display the first few rows to get an overview of the data.\n",
    "2. Perform data cleaning by handling missing values, if any, and removing any redundant or unnecessary columns.\n",
    "3. Explore the basic statistics of the dataset, including measures of central tendency and dispersion.\n",
    "4. Perform data visualization to gain insights into the dataset. Generate appropriate plots, such as histograms, scatter plots, or bar plots, to visualize different aspects of the data.\n",
    "5. Analyze the sales trends over time. Identify the busiest months and days of the week in terms of sales.\n",
    "6. Explore the top-selling products and countries based on the quantity sold.\n",
    "7. Identify any outliers or anomalies in the dataset and discuss their potential impact on the analysis.\n",
    "8. Draw conclusions and summarize your findings from the exploratory data analysis."
   ]
  },
  {
   "cell_type": "markdown",
   "metadata": {},
   "source": [
    "## Importing required libraries"
   ]
  },
  {
   "cell_type": "code",
   "execution_count": 1,
   "metadata": {},
   "outputs": [],
   "source": [
    "import pandas as pd\n",
    "import seaborn as sns\n",
    "import matplotlib.pyplot as plt\n",
    "import calendar"
   ]
  },
  {
   "cell_type": "markdown",
   "metadata": {},
   "source": [
    "### Task 1: Load the Data"
   ]
  },
  {
   "cell_type": "code",
   "execution_count": 2,
   "metadata": {},
   "outputs": [
    {
     "name": "stdout",
     "output_type": "stream",
     "text": [
      " online_retail.ipynb  'Online Retail.xlsx'\r\n"
     ]
    }
   ],
   "source": [
    "# your code here\n",
    "!ls"
   ]
  },
  {
   "cell_type": "code",
   "execution_count": 3,
   "metadata": {},
   "outputs": [
    {
     "data": {
      "text/html": [
       "<div>\n",
       "<style scoped>\n",
       "    .dataframe tbody tr th:only-of-type {\n",
       "        vertical-align: middle;\n",
       "    }\n",
       "\n",
       "    .dataframe tbody tr th {\n",
       "        vertical-align: top;\n",
       "    }\n",
       "\n",
       "    .dataframe thead th {\n",
       "        text-align: right;\n",
       "    }\n",
       "</style>\n",
       "<table border=\"1\" class=\"dataframe\">\n",
       "  <thead>\n",
       "    <tr style=\"text-align: right;\">\n",
       "      <th></th>\n",
       "      <th>InvoiceNo</th>\n",
       "      <th>StockCode</th>\n",
       "      <th>Description</th>\n",
       "      <th>Quantity</th>\n",
       "      <th>InvoiceDate</th>\n",
       "      <th>UnitPrice</th>\n",
       "      <th>CustomerID</th>\n",
       "      <th>Country</th>\n",
       "    </tr>\n",
       "  </thead>\n",
       "  <tbody>\n",
       "    <tr>\n",
       "      <th>0</th>\n",
       "      <td>536365</td>\n",
       "      <td>85123A</td>\n",
       "      <td>WHITE HANGING HEART T-LIGHT HOLDER</td>\n",
       "      <td>6</td>\n",
       "      <td>2010-12-01 08:26:00</td>\n",
       "      <td>2.55</td>\n",
       "      <td>17850.0</td>\n",
       "      <td>United Kingdom</td>\n",
       "    </tr>\n",
       "    <tr>\n",
       "      <th>1</th>\n",
       "      <td>536365</td>\n",
       "      <td>71053</td>\n",
       "      <td>WHITE METAL LANTERN</td>\n",
       "      <td>6</td>\n",
       "      <td>2010-12-01 08:26:00</td>\n",
       "      <td>3.39</td>\n",
       "      <td>17850.0</td>\n",
       "      <td>United Kingdom</td>\n",
       "    </tr>\n",
       "    <tr>\n",
       "      <th>2</th>\n",
       "      <td>536365</td>\n",
       "      <td>84406B</td>\n",
       "      <td>CREAM CUPID HEARTS COAT HANGER</td>\n",
       "      <td>8</td>\n",
       "      <td>2010-12-01 08:26:00</td>\n",
       "      <td>2.75</td>\n",
       "      <td>17850.0</td>\n",
       "      <td>United Kingdom</td>\n",
       "    </tr>\n",
       "    <tr>\n",
       "      <th>3</th>\n",
       "      <td>536365</td>\n",
       "      <td>84029G</td>\n",
       "      <td>KNITTED UNION FLAG HOT WATER BOTTLE</td>\n",
       "      <td>6</td>\n",
       "      <td>2010-12-01 08:26:00</td>\n",
       "      <td>3.39</td>\n",
       "      <td>17850.0</td>\n",
       "      <td>United Kingdom</td>\n",
       "    </tr>\n",
       "    <tr>\n",
       "      <th>4</th>\n",
       "      <td>536365</td>\n",
       "      <td>84029E</td>\n",
       "      <td>RED WOOLLY HOTTIE WHITE HEART.</td>\n",
       "      <td>6</td>\n",
       "      <td>2010-12-01 08:26:00</td>\n",
       "      <td>3.39</td>\n",
       "      <td>17850.0</td>\n",
       "      <td>United Kingdom</td>\n",
       "    </tr>\n",
       "  </tbody>\n",
       "</table>\n",
       "</div>"
      ],
      "text/plain": [
       "  InvoiceNo StockCode                          Description  Quantity  \\\n",
       "0    536365    85123A   WHITE HANGING HEART T-LIGHT HOLDER         6   \n",
       "1    536365     71053                  WHITE METAL LANTERN         6   \n",
       "2    536365    84406B       CREAM CUPID HEARTS COAT HANGER         8   \n",
       "3    536365    84029G  KNITTED UNION FLAG HOT WATER BOTTLE         6   \n",
       "4    536365    84029E       RED WOOLLY HOTTIE WHITE HEART.         6   \n",
       "\n",
       "          InvoiceDate  UnitPrice  CustomerID         Country  \n",
       "0 2010-12-01 08:26:00       2.55     17850.0  United Kingdom  \n",
       "1 2010-12-01 08:26:00       3.39     17850.0  United Kingdom  \n",
       "2 2010-12-01 08:26:00       2.75     17850.0  United Kingdom  \n",
       "3 2010-12-01 08:26:00       3.39     17850.0  United Kingdom  \n",
       "4 2010-12-01 08:26:00       3.39     17850.0  United Kingdom  "
      ]
     },
     "execution_count": 3,
     "metadata": {},
     "output_type": "execute_result"
    }
   ],
   "source": [
    "# Loading dataset in to a Pandas DataFrame\n",
    "retail_init = pd.read_excel('Online Retail.xlsx')\n",
    "\n",
    "# Displaying the first few rows of DataFrame\n",
    "retail_init.head()"
   ]
  },
  {
   "cell_type": "markdown",
   "metadata": {},
   "source": [
    "### Task 2: Data Cleaning"
   ]
  },
  {
   "cell_type": "code",
   "execution_count": 4,
   "metadata": {},
   "outputs": [
    {
     "data": {
      "text/plain": [
       "InvoiceNo      541909\n",
       "StockCode      541909\n",
       "Description    540455\n",
       "Quantity       541909\n",
       "InvoiceDate    541909\n",
       "UnitPrice      541909\n",
       "CustomerID     406829\n",
       "Country        541909\n",
       "dtype: int64"
      ]
     },
     "execution_count": 4,
     "metadata": {},
     "output_type": "execute_result"
    }
   ],
   "source": [
    "retail_init.count()"
   ]
  },
  {
   "cell_type": "code",
   "execution_count": 5,
   "metadata": {},
   "outputs": [
    {
     "data": {
      "text/plain": [
       "InvoiceNo           0\n",
       "StockCode           0\n",
       "Description      1454\n",
       "Quantity            0\n",
       "InvoiceDate         0\n",
       "UnitPrice           0\n",
       "CustomerID     135080\n",
       "Country             0\n",
       "dtype: int64"
      ]
     },
     "execution_count": 5,
     "metadata": {},
     "output_type": "execute_result"
    }
   ],
   "source": [
    "retail_init.isnull().sum()"
   ]
  },
  {
   "cell_type": "code",
   "execution_count": 6,
   "metadata": {},
   "outputs": [
    {
     "data": {
      "text/plain": [
       "InvoiceNo      406829\n",
       "StockCode      406829\n",
       "Description    406829\n",
       "Quantity       406829\n",
       "InvoiceDate    406829\n",
       "UnitPrice      406829\n",
       "CustomerID     406829\n",
       "Country        406829\n",
       "dtype: int64"
      ]
     },
     "execution_count": 6,
     "metadata": {},
     "output_type": "execute_result"
    }
   ],
   "source": [
    "# Removing row with NaN entries\n",
    "retail_cleaned = retail_init.dropna()\n",
    "retail_cleaned.count()"
   ]
  },
  {
   "cell_type": "code",
   "execution_count": 7,
   "metadata": {},
   "outputs": [
    {
     "data": {
      "text/plain": [
       "InvoiceNo      541909\n",
       "StockCode      541909\n",
       "Quantity       541909\n",
       "InvoiceDate    541909\n",
       "UnitPrice      541909\n",
       "Country        541909\n",
       "dtype: int64"
      ]
     },
     "execution_count": 7,
     "metadata": {},
     "output_type": "execute_result"
    }
   ],
   "source": [
    "# Removing column with NaN entries\n",
    "data_clean = retail_init.dropna(axis = 1)\n",
    "data_clean.count()"
   ]
  },
  {
   "cell_type": "code",
   "execution_count": 8,
   "metadata": {},
   "outputs": [
    {
     "data": {
      "text/plain": [
       "Index(['InvoiceNo', 'StockCode', 'Quantity', 'InvoiceDate', 'UnitPrice',\n",
       "       'Country'],\n",
       "      dtype='object')"
      ]
     },
     "execution_count": 8,
     "metadata": {},
     "output_type": "execute_result"
    }
   ],
   "source": [
    "data_clean.columns"
   ]
  },
  {
   "cell_type": "code",
   "execution_count": 9,
   "metadata": {},
   "outputs": [
    {
     "data": {
      "text/plain": [
       "Index(['InvoiceNo', 'StockCode', 'Description', 'Quantity', 'InvoiceDate',\n",
       "       'UnitPrice', 'CustomerID', 'Country'],\n",
       "      dtype='object')"
      ]
     },
     "execution_count": 9,
     "metadata": {},
     "output_type": "execute_result"
    }
   ],
   "source": [
    "retail_cleaned.columns"
   ]
  },
  {
   "cell_type": "markdown",
   "metadata": {},
   "source": [
    "### Task 3 : Dataset statistics"
   ]
  },
  {
   "cell_type": "code",
   "execution_count": 10,
   "metadata": {},
   "outputs": [
    {
     "data": {
      "text/html": [
       "<div>\n",
       "<style scoped>\n",
       "    .dataframe tbody tr th:only-of-type {\n",
       "        vertical-align: middle;\n",
       "    }\n",
       "\n",
       "    .dataframe tbody tr th {\n",
       "        vertical-align: top;\n",
       "    }\n",
       "\n",
       "    .dataframe thead th {\n",
       "        text-align: right;\n",
       "    }\n",
       "</style>\n",
       "<table border=\"1\" class=\"dataframe\">\n",
       "  <thead>\n",
       "    <tr style=\"text-align: right;\">\n",
       "      <th></th>\n",
       "      <th>Quantity</th>\n",
       "      <th>UnitPrice</th>\n",
       "    </tr>\n",
       "  </thead>\n",
       "  <tbody>\n",
       "    <tr>\n",
       "      <th>count</th>\n",
       "      <td>541909.000000</td>\n",
       "      <td>541909.000000</td>\n",
       "    </tr>\n",
       "    <tr>\n",
       "      <th>mean</th>\n",
       "      <td>9.552250</td>\n",
       "      <td>4.611114</td>\n",
       "    </tr>\n",
       "    <tr>\n",
       "      <th>std</th>\n",
       "      <td>218.081158</td>\n",
       "      <td>96.759853</td>\n",
       "    </tr>\n",
       "    <tr>\n",
       "      <th>min</th>\n",
       "      <td>-80995.000000</td>\n",
       "      <td>-11062.060000</td>\n",
       "    </tr>\n",
       "    <tr>\n",
       "      <th>25%</th>\n",
       "      <td>1.000000</td>\n",
       "      <td>1.250000</td>\n",
       "    </tr>\n",
       "    <tr>\n",
       "      <th>50%</th>\n",
       "      <td>3.000000</td>\n",
       "      <td>2.080000</td>\n",
       "    </tr>\n",
       "    <tr>\n",
       "      <th>75%</th>\n",
       "      <td>10.000000</td>\n",
       "      <td>4.130000</td>\n",
       "    </tr>\n",
       "    <tr>\n",
       "      <th>max</th>\n",
       "      <td>80995.000000</td>\n",
       "      <td>38970.000000</td>\n",
       "    </tr>\n",
       "  </tbody>\n",
       "</table>\n",
       "</div>"
      ],
      "text/plain": [
       "            Quantity      UnitPrice\n",
       "count  541909.000000  541909.000000\n",
       "mean        9.552250       4.611114\n",
       "std       218.081158      96.759853\n",
       "min    -80995.000000  -11062.060000\n",
       "25%         1.000000       1.250000\n",
       "50%         3.000000       2.080000\n",
       "75%        10.000000       4.130000\n",
       "max     80995.000000   38970.000000"
      ]
     },
     "execution_count": 10,
     "metadata": {},
     "output_type": "execute_result"
    }
   ],
   "source": [
    "retail_init[['Quantity', 'UnitPrice']].describe()"
   ]
  },
  {
   "cell_type": "markdown",
   "metadata": {},
   "source": [
    "#### Central tendency (Mean , Median and Mode) - Quantity , UnitPrice"
   ]
  },
  {
   "cell_type": "code",
   "execution_count": 11,
   "metadata": {},
   "outputs": [
    {
     "name": "stdout",
     "output_type": "stream",
     "text": [
      "Quantity\n",
      "Median :  9.55224954743324\n",
      "Median :  3.0\n",
      "Median :  1\n",
      "\n",
      "Unit Price\n",
      "Median :  4.611113626083471\n",
      "Median :  2.08\n",
      "Median :  1.25\n"
     ]
    }
   ],
   "source": [
    "quantity_mean = retail_init['Quantity'].mean()\n",
    "quantity_median = retail_init['Quantity'].median()\n",
    "quantity_mode = retail_init['Quantity'].mode().iloc[0]\n",
    "\n",
    "unitprice_mean = retail_init['UnitPrice'].mean()\n",
    "unitprice_median = retail_init['UnitPrice'].median()\n",
    "unitprice_mode = retail_init['UnitPrice'].mode().iloc[0]\n",
    "\n",
    "print('Quantity')\n",
    "print('Median : ', quantity_mean)\n",
    "print('Median : ', quantity_median)\n",
    "print('Median : ', quantity_mode)\n",
    "print()\n",
    "print('Unit Price')\n",
    "print('Median : ', unitprice_mean)\n",
    "print('Median : ', unitprice_median)\n",
    "print('Median : ', unitprice_mode)"
   ]
  },
  {
   "cell_type": "markdown",
   "metadata": {},
   "source": [
    "#### Dispersion - Quantity , UnitPrice"
   ]
  },
  {
   "cell_type": "code",
   "execution_count": 12,
   "metadata": {},
   "outputs": [],
   "source": [
    "# Range\n",
    "quantity_range = retail_init['Quantity'].max() - retail_init['Quantity'].min()\n",
    "unitprice_range = retail_init['UnitPrice'].max() - retail_init['UnitPrice'].min()\n",
    "\n",
    "# Vairance\n",
    "quantity_var = retail_init['Quantity'].var()\n",
    "unitprice_var = retail_init['UnitPrice'].var()\n",
    "\n",
    "# Standard Deviation\n",
    "quantity_std = retail_init['Quantity'].std()\n",
    "unitprice_std = retail_init['UnitPrice'].std()\n",
    "\n",
    "# Inter-quartile Range\n",
    "quantity_iqr = retail_init['Quantity'].quantile(0.75) - retail_init['Quantity'].quantile(0.25)\n",
    "unitprice_iqr = retail_init['UnitPrice'].quantile(0.75) - retail_init['UnitPrice'].quantile(0.25)"
   ]
  },
  {
   "cell_type": "code",
   "execution_count": 13,
   "metadata": {},
   "outputs": [
    {
     "name": "stdout",
     "output_type": "stream",
     "text": [
      "Quantity\n",
      "Range :  161990\n",
      "Variance :  47559.39140913822\n",
      "Standard Deviation :  218.08115784986612\n",
      "Inter-quartile Range :  9.0\n",
      "\n",
      "Unit Price\n",
      "Range :  50032.06\n",
      "Variance :  9362.469164424467\n",
      "Standard Deviation  :  96.75985306119716\n",
      "Inter-quartile Range :  2.88\n"
     ]
    }
   ],
   "source": [
    "print('Quantity')\n",
    "print('Range : ', quantity_range)\n",
    "print('Variance : ', quantity_var)\n",
    "print('Standard Deviation : ', quantity_std)\n",
    "print('Inter-quartile Range : ', quantity_iqr)\n",
    "print()\n",
    "print('Unit Price')\n",
    "print('Range : ', unitprice_range)\n",
    "print('Variance : ', unitprice_var)\n",
    "print('Standard Deviation  : ', unitprice_std)\n",
    "print('Inter-quartile Range : ', unitprice_iqr)"
   ]
  },
  {
   "cell_type": "markdown",
   "metadata": {},
   "source": [
    "### Task 4 : Data Visualization"
   ]
  },
  {
   "cell_type": "markdown",
   "metadata": {},
   "source": [
    "##### Histograms"
   ]
  },
  {
   "cell_type": "code",
   "execution_count": 14,
   "metadata": {},
   "outputs": [
    {
     "data": {
      "image/png": "[encoded data removed]",
      "text/plain": [
       "<Figure size 432x288 with 1 Axes>"
      ]
     },
     "metadata": {
      "needs_background": "light"
     },
     "output_type": "display_data"
    },
    {
     "data": {
      "image/png": "[encoded data removed]",
      "text/plain": [
       "<Figure size 432x288 with 1 Axes>"
      ]
     },
     "metadata": {
      "needs_background": "light"
     },
     "output_type": "display_data"
    }
   ],
   "source": [
    "'''\n",
    "Quantity: To visualize the distribution of the quantity of items ordered.\n",
    "UnitPrice: To visualize the distribution of unit prices.'''\n",
    "\n",
    "# Histogram for Quantity\n",
    "plt.hist(retail_init['Quantity'], bins=30, color='skyblue')\n",
    "plt.xlabel('Quantity')\n",
    "plt.ylabel('Frequency')\n",
    "plt.title('Distribution of Quantity')\n",
    "\n",
    "plt.xlim(-10000, 10000)\n",
    "plt.show()\n",
    "\n",
    "# Histogram for UnitPrice\n",
    "plt.hist(retail_init['UnitPrice'], bins=30, color='salmon')\n",
    "plt.xlabel('Unit Price')\n",
    "plt.ylabel('Frequency')\n",
    "plt.title('Distribution of Unit Price')\n",
    "plt.xlim(-2500, 2500)\n",
    "plt.show()"
   ]
  },
  {
   "cell_type": "markdown",
   "metadata": {},
   "source": [
    "##### Bar Plot"
   ]
  },
  {
   "cell_type": "code",
   "execution_count": 15,
   "metadata": {},
   "outputs": [
    {
     "data": {
      "image/png": "[encoded data removed]",
      "text/plain": [
       "<Figure size 720x432 with 1 Axes>"
      ]
     },
     "metadata": {
      "needs_background": "light"
     },
     "output_type": "display_data"
    }
   ],
   "source": [
    "'''\n",
    "Country: To visualize the number of transactions from different countries.'''\n",
    "country_counts = retail_init['Country'].value_counts().head(10)\n",
    "plt.figure(figsize=(10, 6))\n",
    "country_counts.plot(kind='bar', color='green')\n",
    "plt.xlabel('Country')\n",
    "plt.ylabel('Number of Transactions')\n",
    "plt.title('Number of Transactions by Country')\n",
    "plt.xticks(rotation=45)\n",
    "plt.show()"
   ]
  },
  {
   "cell_type": "markdown",
   "metadata": {},
   "source": [
    "##### Scatter plot"
   ]
  },
  {
   "cell_type": "code",
   "execution_count": 16,
   "metadata": {},
   "outputs": [
    {
     "data": {
      "image/png": "[encoded data removed]",
      "text/plain": [
       "<Figure size 432x288 with 1 Axes>"
      ]
     },
     "metadata": {
      "needs_background": "light"
     },
     "output_type": "display_data"
    }
   ],
   "source": [
    "'''\n",
    "Quantity vs. UnitPrice: To visualize the relationship between the quantity of items ordered and their unit prices.'''\n",
    "\n",
    "plt.scatter(retail_init['Quantity'], retail_init['UnitPrice'], color='red', alpha=0.5)\n",
    "plt.xlabel('Quantity')\n",
    "plt.ylabel('Unit Price')\n",
    "plt.title('Quantity vs. Unit Price')\n",
    "plt.show()"
   ]
  },
  {
   "cell_type": "markdown",
   "metadata": {},
   "source": [
    "### Task 5 : Find Busiest Month and Day of the Week"
   ]
  },
  {
   "cell_type": "code",
   "execution_count": 18,
   "metadata": {},
   "outputs": [],
   "source": [
    "# Adding new columns for Month and Day of Week.\n",
    "retail_init['Month'] = retail_init['InvoiceDate'].dt.month\n",
    "retail_init['DayOfWeek'] = retail_init['InvoiceDate'].dt.dayofweek\n",
    "\n",
    "\n",
    "# Calculating Monthy Sales and identifying busiest month.\n",
    "monthly_sales = retail_init.groupby('Month')['Quantity'].sum()\n",
    "busiest_month = monthly_sales.idxmax()\n",
    "\n",
    "\n",
    "# Calculation Weekly sales and identifying busiest week.\n",
    "daily_sales = retail_init.groupby('DayOfWeek')['Quantity'].sum()\n",
    "busiest_day_of_week = daily_sales.idxmax()"
   ]
  },
  {
   "cell_type": "code",
   "execution_count": 19,
   "metadata": {},
   "outputs": [
    {
     "name": "stdout",
     "output_type": "stream",
     "text": [
      "Busiest Month: 11\n",
      "Busiest Day of the Week: 3\n"
     ]
    }
   ],
   "source": [
    "# Print the busiest month and day of the week\n",
    "print(\"Busiest Month:\", busiest_month)\n",
    "print(\"Busiest Day of the Week:\", busiest_day_of_week)"
   ]
  },
  {
   "cell_type": "markdown",
   "metadata": {},
   "source": [
    "### Task 6 :  Find the top selling product"
   ]
  },
  {
   "cell_type": "code",
   "execution_count": 36,
   "metadata": {},
   "outputs": [
    {
     "name": "stdout",
     "output_type": "stream",
     "text": [
      "5 Top-Selling Products:\n",
      "Description\n",
      "WORLD WAR 2 GLIDERS ASSTD DESIGNS    53847\n",
      "JUMBO BAG RED RETROSPOT              47363\n",
      "ASSORTED COLOUR BIRD ORNAMENT        36381\n",
      "POPCORN HOLDER                       36334\n",
      "PACK OF 72 RETROSPOT CAKE CASES      36039\n",
      "Name: Quantity, dtype: int64\n"
     ]
    }
   ],
   "source": [
    "top_selling_products = retail_init.groupby('Description')['Quantity'].sum().sort_values(ascending=False)\n",
    "\n",
    "print('5 Top-Selling Products:')\n",
    "print(top_selling_products.head(5))"
   ]
  },
  {
   "cell_type": "code",
   "execution_count": 46,
   "metadata": {},
   "outputs": [
    {
     "name": "stdout",
     "output_type": "stream",
     "text": [
      "Top-Selling Product: WORLD WAR 2 GLIDERS ASSTD DESIGNS\n"
     ]
    }
   ],
   "source": [
    "print('Top-Selling Product: {}'.format(top_selling_products.idxmax()))"
   ]
  },
  {
   "cell_type": "code",
   "execution_count": 47,
   "metadata": {},
   "outputs": [
    {
     "name": "stdout",
     "output_type": "stream",
     "text": [
      "5 Top-Selling Countries:\n",
      "Country\n",
      "United Kingdom    4263829\n",
      "Netherlands        200128\n",
      "EIRE               142637\n",
      "Germany            117448\n",
      "France             110480\n",
      "Name: Quantity, dtype: int64\n"
     ]
    }
   ],
   "source": [
    "top_selling_countries = retail_init.groupby(\"Country\")[\"Quantity\"].sum().sort_values(ascending=False)\n",
    "\n",
    "print('5 Top-Selling Countries:')\n",
    "print(top_selling_countries.head(5))"
   ]
  },
  {
   "cell_type": "code",
   "execution_count": 48,
   "metadata": {},
   "outputs": [
    {
     "name": "stdout",
     "output_type": "stream",
     "text": [
      "Top-Selling Country: United Kingdom\n"
     ]
    }
   ],
   "source": [
    "print('Top-Selling Country: {}'.format(top_selling_countries.idxmax()))"
   ]
  },
  {
   "cell_type": "markdown",
   "metadata": {},
   "source": [
    "### Task 7 : Identify any outliers or anomalies in the dataset"
   ]
  },
  {
   "cell_type": "code",
   "execution_count": 49,
   "metadata": {},
   "outputs": [
    {
     "data": {
      "image/png": "[encoded data removed]",
      "text/plain": [
       "<Figure size 864x432 with 1 Axes>"
      ]
     },
     "metadata": {
      "needs_background": "light"
     },
     "output_type": "display_data"
    },
    {
     "data": {
      "image/png": "[encoded data removed]",
      "text/plain": [
       "<Figure size 864x432 with 1 Axes>"
      ]
     },
     "metadata": {
      "needs_background": "light"
     },
     "output_type": "display_data"
    }
   ],
   "source": [
    "# Create box plots for Quantity and UnitPrice\n",
    "plt.figure(figsize=(12, 6))\n",
    "sns.boxplot(retail_init['Quantity'])\n",
    "plt.title('Box Plot for Quantity')\n",
    "plt.show()\n",
    "\n",
    "plt.figure(figsize=(12, 6))\n",
    "sns.boxplot(retail_init['UnitPrice'])\n",
    "plt.title('Box Plot for UnitPrice')\n",
    "plt.show()"
   ]
  },
  {
   "cell_type": "code",
   "execution_count": 64,
   "metadata": {},
   "outputs": [
    {
     "name": "stdout",
     "output_type": "stream",
     "text": [
      "Number of outliers based on Quantity : 586190\n"
     ]
    }
   ],
   "source": [
    "# Data that lie below Q1 - 1.5 * IQR or above Q3 + 1.5 * IQR are considered outliers.\n",
    "Q1_quantity = retail_init['Quantity'].quantile(0.25)\n",
    "Q3_quantity = retail_init['Quantity'].quantile(0.75)\n",
    "\n",
    "\n",
    "lower_bound = Q1_quantity - 1.5 * quantity_iqr\n",
    "upper_bound = Q3_quantity + 1.5 * quantity_iqr\n",
    "\n",
    "outliers_quantity = retail_init[(retail_init['Quantity'] < lower_bound) | (retail_init['Quantity'] > upper_bound)]\n",
    "print('Number of outliers based on Quantity : {}'.format(outliers_quantity.size))"
   ]
  },
  {
   "cell_type": "code",
   "execution_count": 72,
   "metadata": {},
   "outputs": [
    {
     "name": "stdout",
     "output_type": "stream",
     "text": [
      "Number of outliers based on Unit Price : 55200\n"
     ]
    }
   ],
   "source": [
    "# Data that lie below Q1 - 1.5 * IQR or above Q3 + 1.5 * IQR are considered outliers.\n",
    "Q1_unitprice = retail_init['UnitPrice'].quantile(0.25)\n",
    "Q3_unitprice = retail_init['UnitPrice'].quantile(0.75)\n",
    "\n",
    "\n",
    "lower_bound = Q1_unitprice - 1.5 * quantity_iqr\n",
    "upper_bound = Q3_unitprice + 1.5 * quantity_iqr\n",
    "\n",
    "outliers_unitprice = retail_init[(retail_init['UnitPrice'] < lower_bound) | (retail_init['UnitPrice'] > upper_bound)]\n",
    "print('Number of outliers based on Unit Price : {}'.format(outliers_unitprice.size))"
   ]
  },
  {
   "cell_type": "markdown",
   "metadata": {},
   "source": [
    "### Task 8 : Draw conclusions and summarize your findings"
   ]
  },
  {
   "cell_type": "markdown",
   "metadata": {},
   "source": [
    "###### Conclusion"
   ]
  },
  {
   "cell_type": "code",
   "execution_count": 69,
   "metadata": {},
   "outputs": [
    {
     "name": "stdout",
     "output_type": "stream",
     "text": [
      "1. Using Python for Exploratory data analysis makes easy to find the  mean , median and modes using the pandas library.\n",
      "2. It becomes very easy to visualize the data in different types of graphs such as in Histograms , Scatter plots and in Bar plots.\n",
      "3.Standard Deviation and variations can also be performed as pandas library has enriched with built in functions for data analysis.\n"
     ]
    }
   ],
   "source": [
    "print(\"1. Using Python for Exploratory data analysis makes easy to find the  mean , median and modes using the pandas library.\")\n",
    "print(\"2. It becomes very easy to visualize the data in different types of graphs such as in Histograms , Scatter plots and in Bar plots.\")\n",
    "print(\"3.Standard Deviation and variations can also be performed as pandas library has enriched with built in functions for data analysis.\")"
   ]
  },
  {
   "cell_type": "markdown",
   "metadata": {},
   "source": [
    "###### Summary"
   ]
  },
  {
   "cell_type": "code",
   "execution_count": 91,
   "metadata": {},
   "outputs": [
    {
     "name": "stdout",
     "output_type": "stream",
     "text": [
      "Total number of entries in Data Set : 5419090\n",
      "Total number of entries in Data Set after removing quantity anomaly : 4832900\n",
      "Total number of entries in Data Set after removing unit price anomaly : 5363890\n",
      "\n",
      "Busiest month by sales : November\n",
      "Busiest day of week by sales : Wednesday\n",
      "\n",
      "Top-Selling Product: WORLD WAR 2 GLIDERS ASSTD DESIGNS\n",
      "Top-Selling Country: United Kingdom\n"
     ]
    }
   ],
   "source": [
    "print('Total number of entries in Data Set : {}'.format(retail_init.size))\n",
    "print('Total number of entries in Data Set after removing quantity anomaly : {}'.format(retail_init.size - outliers_quantity.size))\n",
    "print('Total number of entries in Data Set after removing unit price anomaly : {}'.format(retail_init.size - outliers_unitprice.size))\n",
    "print()\n",
    "print('Busiest month by sales : {}'.format(calendar.month_name[busiest_month]))\n",
    "print('Busiest day of week by sales : {}'.format('Wednesday'))\n",
    "print()\n",
    "print('Top-Selling Product: {}'.format(top_selling_products.idxmax()))\n",
    "print('Top-Selling Country: {}'.format(top_selling_countries.idxmax()))"
   ]
  },
  {
   "cell_type": "code",
   "execution_count": 94,
   "metadata": {},
   "outputs": [
    {
     "name": "stdout",
     "output_type": "stream",
     "text": [
      "Number of transactions:  25900\n",
      "Number of products:  4070\n",
      "Number of customers: 4372\n",
      "Percentage of customers NA:  24.93 %\n",
      "Number of countries:  38\n"
     ]
    }
   ],
   "source": [
    "#exploring the unique values of each attribute\n",
    "print(\"Number of transactions: \", retail_init['InvoiceNo'].nunique())\n",
    "print(\"Number of products: \",retail_init['StockCode'].nunique())\n",
    "print(\"Number of customers:\", retail_init['CustomerID'].nunique() )\n",
    "print(\"Percentage of customers NA: \", round(retail_init['CustomerID'].isnull().sum() * 100 / len(retail_init),2),\"%\" )\n",
    "print('Number of countries: ',retail_init['Country'].nunique())"
   ]
  }
 ],
 "metadata": {
  "kernelspec": {
   "display_name": "Python 3",
   "language": "python",
   "name": "python3"
  },
  "language_info": {
   "codemirror_mode": {
    "name": "ipython",
    "version": 3
   },
   "file_extension": ".py",
   "mimetype": "text/x-python",
   "name": "python",
   "nbconvert_exporter": "python",
   "pygments_lexer": "ipython3",
   "version": "3.7.6"
  }
 },
 "nbformat": 4,
 "nbformat_minor": 4
}
